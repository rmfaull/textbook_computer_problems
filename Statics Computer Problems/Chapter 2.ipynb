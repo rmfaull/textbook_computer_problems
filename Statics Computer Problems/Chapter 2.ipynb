{
 "cells": [
  {
   "cell_type": "markdown",
   "id": "83f597c6",
   "metadata": {},
   "source": [
    "# Vector Mechanics for Engineers Statics Chapter 2 Computer Problems\n"
   ]
  },
  {
   "cell_type": "markdown",
   "id": "64ee1959",
   "metadata": {},
   "source": [
    "### P2.C1: "
   ]
  },
  {
   "cell_type": "markdown",
   "id": "00e65ca3",
   "metadata": {},
   "source": [
    "![title](2.C1.png)"
   ]
  },
  {
   "cell_type": "markdown",
   "id": "f67ca161",
   "metadata": {},
   "source": [
    "We know:\n",
    "\n",
    "$R_{x}$ = $\\sum$$F_{x}$ and $R_{y}$ = $\\sum$$F_{y}$\n",
    "\n",
    "Also:\n",
    "\n",
    "$\\tan$$\\alpha$ = $\\frac{R_{y}}{R_{x}}$"
   ]
  },
  {
   "cell_type": "code",
   "execution_count": 1,
   "id": "04d75182",
   "metadata": {},
   "outputs": [],
   "source": [
    "import numpy as np\n",
    "\n",
    "'''takes in a list of n length with force magnitude and theta angle tuples as shown in Fig P2.C1 \n",
    "and returns the resultant force as a touple containing mangitude and theta angle in degrees''' \n",
    "\n",
    "def getResultant(forces):\n",
    "   \n",
    "    \n",
    "    \n",
    "    n = len(forces) # determines how many forces are applied at A\n",
    "    Rx = 0 # initializes a variable to sum the magnitudes in the x direction\n",
    "    Ry = 0\n",
    "   \n",
    "    \n",
    "    # Assumes a list of force and angle tuples or lists is provided as input\n",
    "    # Also assumes theta angles are provided in degrees\n",
    "    \n",
    "    for F, theta in forces:\n",
    "        \n",
    "        Rx = Rx + F * np.cos((theta * np.pi)/ 180)\n",
    "        Ry = Ry + F * np.sin((theta * np.pi)/ 180)\n",
    "        \n",
    "    R = np.round(np.sqrt(Rx**2 + Ry**2), decimals = 1) #calculates the magnitude of the resultant \n",
    "    alpha = np.round(((np.arctan2(Ry  , Rx) * 180) / np.pi ), decimals = 1) # calculates the arctangent to get resultant angle\n",
    "    \n",
    "    return R, alpha\n",
    "    \n",
    "    \n",
    "    "
   ]
  },
  {
   "cell_type": "code",
   "execution_count": 2,
   "id": "4526c324",
   "metadata": {},
   "outputs": [
    {
     "name": "stdout",
     "output_type": "stream",
     "text": [
      "(199.6, 4.1)\n"
     ]
    }
   ],
   "source": [
    "#Test using Sample Problem 2.3 on pg. 31\n",
    "\n",
    "F = [(150, 30), (80, 90 + 20), (110, 270), (100, 360 - 15)]\n",
    "\n",
    "print(getResultant(F))"
   ]
  },
  {
   "cell_type": "markdown",
   "id": "2f121b13",
   "metadata": {},
   "source": [
    "![title](2.32.png)\n"
   ]
  },
  {
   "cell_type": "markdown",
   "id": "f0adea00",
   "metadata": {},
   "source": [
    "![title](Fig2.24.png)"
   ]
  },
  {
   "cell_type": "code",
   "execution_count": 3,
   "id": "bbc77b4f",
   "metadata": {},
   "outputs": [
    {
     "name": "stdout",
     "output_type": "stream",
     "text": [
      "The resultant is: \n",
      "R = 251.1 N with an angle of 94.7 degrees\n"
     ]
    }
   ],
   "source": [
    "# Problem 2.32 \n",
    "\n",
    "F = [(80, 40), (120, 40 + 30), (150, 180 - 35)]\n",
    "R, alpha = getResultant(F)\n",
    "print(\"The resultant is: \")\n",
    "print(\"R = {} N with an angle of {} degrees\".format(R, alpha))"
   ]
  },
  {
   "cell_type": "markdown",
   "id": "ac6e4673",
   "metadata": {},
   "source": [
    "![title](2.33.png)"
   ]
  },
  {
   "cell_type": "markdown",
   "id": "e1bb7282",
   "metadata": {},
   "source": [
    "![title](Fig2.23.png)"
   ]
  },
  {
   "cell_type": "code",
   "execution_count": 4,
   "id": "6ea160a1",
   "metadata": {},
   "outputs": [
    {
     "name": "stdout",
     "output_type": "stream",
     "text": [
      "The resultant is: \n",
      "R = 54.9 lbs with an angle of -48.9 degrees\n"
     ]
    }
   ],
   "source": [
    "# Problem 2.33\n",
    "\n",
    "F = [(50, 270 - 50), (40, 360 - 60), (60, 25)]\n",
    "R, alpha = getResultant(F)\n",
    "print(\"The resultant is: \")\n",
    "print(\"R = {} lbs with an angle of {} degrees\".format(R, alpha))"
   ]
  },
  {
   "cell_type": "markdown",
   "id": "a3a9e11f",
   "metadata": {},
   "source": [
    "![title](2.35.png)"
   ]
  },
  {
   "cell_type": "markdown",
   "id": "746259ec",
   "metadata": {},
   "source": [
    "![title](Fig2.35.png)"
   ]
  },
  {
   "cell_type": "code",
   "execution_count": 5,
   "id": "1f370180",
   "metadata": {},
   "outputs": [
    {
     "name": "stdout",
     "output_type": "stream",
     "text": [
      "The resultant is: \n",
      "R = 308.6 N with an angle of -93.4 degrees\n"
     ]
    }
   ],
   "source": [
    "#Problem 2.35\n",
    "# With positive x pointing right and positive y pointing upward\n",
    "alpha = 35 \n",
    "F = [(200, 180 + alpha), (150, 360 - (alpha + 30)), (100, 360 - alpha)]\n",
    "R, beta= getResultant(F)\n",
    "print(\"The resultant is: \")\n",
    "print(\"R = {} N with an angle of {} degrees\".format(R, beta))"
   ]
  },
  {
   "cell_type": "markdown",
   "id": "40618359",
   "metadata": {},
   "source": [
    "![title](2.38.png)"
   ]
  },
  {
   "cell_type": "markdown",
   "id": "e9f2beef",
   "metadata": {},
   "source": [
    "![title](Fig2.38.png)"
   ]
  },
  {
   "cell_type": "code",
   "execution_count": 6,
   "id": "4702fc09",
   "metadata": {},
   "outputs": [
    {
     "name": "stdout",
     "output_type": "stream",
     "text": [
      "The resultant is: \n",
      "R = 202.0 lbs with an angle of 88.2 degrees\n"
     ]
    }
   ],
   "source": [
    "#Problem 2.38 \n",
    "# With positive x pointing right and positive y pointing upward\n",
    "alpha = 75\n",
    "F = [(60, alpha), (80, alpha + alpha), (120, alpha + 270 + alpha)]\n",
    "R, beta= getResultant(F)\n",
    "print(\"The resultant is: \")\n",
    "print(\"R = {} lbs with an angle of {} degrees\".format(R, beta))"
   ]
  },
  {
   "cell_type": "markdown",
   "id": "cc8edd02",
   "metadata": {},
   "source": [
    "### P2.C2"
   ]
  },
  {
   "cell_type": "markdown",
   "id": "7d4faa8a",
   "metadata": {},
   "source": [
    "![title](2.C2.png)"
   ]
  },
  {
   "cell_type": "code",
   "execution_count": 7,
   "id": "c69e2b2a",
   "metadata": {},
   "outputs": [],
   "source": [
    "from tabulate import tabulate\n",
    "def getTensions(alpha, beta, P, dTheta):\n",
    "    #creates a function that takes in the arguments alpha, beta, P and dTheta with angles assumed to be passed in degrees\n",
    "    \n",
    "    theta1 = beta - 90 # calculates the starting theta angle\n",
    "    theta2 = 90 - alpha # calculates the ending theta angle\n",
    "    \n",
    "    tsAndtheta = [[\"theta\", \"T_AC\", \"T_BC\"]]\n",
    "    for theta in range (theta1, theta2 + dTheta, dTheta):\n",
    "        \n",
    "        #Part a\n",
    "        \n",
    "        # From force triangle T_AC/sin(90-beta+theta) = T_BC/sin(90-alpha-theta) = P/sin(alpha + beta)\n",
    "        \n",
    "        P_sin = P / np.sin(((alpha + beta) * np.pi) / 180)\n",
    "        T_AC =  np.round(P_sin * np.sin(((90 - beta + theta)* np.pi) / 180), decimals = 1)\n",
    "        T_BC = np.round(P_sin * np.sin(((90 - alpha - theta) * np.pi) / 180), decimals = 1)\n",
    "       \n",
    "        #Part b and Part c\n",
    "        \n",
    "        # T is smallest when both cables have same magnitude tension\n",
    "        \n",
    "        if T_AC == T_BC:\n",
    "            T_min = T_AC\n",
    "            theta_min = theta\n",
    "        \n",
    "        tsAndtheta.append([theta, T_AC, T_BC])\n",
    "    \n",
    "    #Result printing\n",
    "    \n",
    "    print(\"Part a)\")\n",
    "    print(tabulate(tsAndtheta, headers = 'firstrow', tablefmt = 'fancy_grid'))\n",
    "    \n",
    "    print(\"\\nPart b)\")\n",
    "    print(\"Theta_min = {} degrees\".format(theta_min))\n",
    "    \n",
    "    print(\"\\nPart c)\")\n",
    "    print(\"The minimum tension is= {} lbs\".format(T_min))\n",
    "    "
   ]
  },
  {
   "cell_type": "code",
   "execution_count": 8,
   "id": "791b76d7",
   "metadata": {},
   "outputs": [
    {
     "name": "stdout",
     "output_type": "stream",
     "text": [
      "Part a)\n",
      "╒═════════╤════════╤════════╕\n",
      "│   theta │   T_AC │   T_BC │\n",
      "╞═════════╪════════╪════════╡\n",
      "│     -15 │    0   │  400   │\n",
      "├─────────┼────────┼────────┤\n",
      "│     -10 │   37.1 │  385.8 │\n",
      "├─────────┼────────┼────────┤\n",
      "│      -5 │   73.9 │  368.6 │\n",
      "├─────────┼────────┼────────┤\n",
      "│       0 │  110.2 │  348.7 │\n",
      "├─────────┼────────┼────────┤\n",
      "│       5 │  145.6 │  326.1 │\n",
      "├─────────┼────────┼────────┤\n",
      "│      10 │  179.9 │  301   │\n",
      "├─────────┼────────┼────────┤\n",
      "│      15 │  212.8 │  273.6 │\n",
      "├─────────┼────────┼────────┤\n",
      "│      20 │  244.2 │  244.2 │\n",
      "├─────────┼────────┼────────┤\n",
      "│      25 │  273.6 │  212.8 │\n",
      "├─────────┼────────┼────────┤\n",
      "│      30 │  301   │  179.9 │\n",
      "├─────────┼────────┼────────┤\n",
      "│      35 │  326.1 │  145.6 │\n",
      "├─────────┼────────┼────────┤\n",
      "│      40 │  348.7 │  110.2 │\n",
      "├─────────┼────────┼────────┤\n",
      "│      45 │  368.6 │   73.9 │\n",
      "├─────────┼────────┼────────┤\n",
      "│      50 │  385.8 │   37.1 │\n",
      "├─────────┼────────┼────────┤\n",
      "│      55 │  400   │    0   │\n",
      "╘═════════╧════════╧════════╛\n",
      "\n",
      "Part b)\n",
      "Theta_min = 20 degrees\n",
      "\n",
      "Part c)\n",
      "The minimum tension is= 244.2 lbs\n"
     ]
    }
   ],
   "source": [
    "# 2.C2 (1)\n",
    "\n",
    "getTensions(35, 75, 400, 5)"
   ]
  },
  {
   "cell_type": "code",
   "execution_count": 9,
   "id": "577ed226",
   "metadata": {},
   "outputs": [
    {
     "name": "stdout",
     "output_type": "stream",
     "text": [
      "Part a)\n",
      "╒═════════╤════════╤════════╕\n",
      "│   theta │   T_AC │   T_BC │\n",
      "╞═════════╪════════╪════════╡\n",
      "│     -60 │    0   │  600   │\n",
      "├─────────┼────────┼────────┤\n",
      "│     -50 │  105.8 │  609.3 │\n",
      "├─────────┼────────┼────────┤\n",
      "│     -40 │  208.4 │  600   │\n",
      "├─────────┼────────┼────────┤\n",
      "│     -30 │  304.6 │  572.5 │\n",
      "├─────────┼────────┼────────┤\n",
      "│     -20 │  391.6 │  527.6 │\n",
      "├─────────┼────────┼────────┤\n",
      "│     -10 │  466.7 │  466.7 │\n",
      "├─────────┼────────┼────────┤\n",
      "│       0 │  527.6 │  391.6 │\n",
      "├─────────┼────────┼────────┤\n",
      "│      10 │  572.5 │  304.6 │\n",
      "├─────────┼────────┼────────┤\n",
      "│      20 │  600   │  208.4 │\n",
      "├─────────┼────────┼────────┤\n",
      "│      30 │  609.3 │  105.8 │\n",
      "├─────────┼────────┼────────┤\n",
      "│      40 │  600   │    0   │\n",
      "╘═════════╧════════╧════════╛\n",
      "\n",
      "Part b)\n",
      "Theta_min = -10 degrees\n",
      "\n",
      "Part c)\n",
      "The minimum tension is= 466.7 lbs\n"
     ]
    }
   ],
   "source": [
    "# 2.C2 (2)\n",
    "\n",
    "getTensions(50, 30, 600, 10)"
   ]
  },
  {
   "cell_type": "code",
   "execution_count": 10,
   "id": "736dd92c",
   "metadata": {},
   "outputs": [
    {
     "name": "stdout",
     "output_type": "stream",
     "text": [
      "Part a)\n",
      "╒═════════╤════════╤════════╕\n",
      "│   theta │   T_AC │   T_BC │\n",
      "╞═════════╪════════╪════════╡\n",
      "│     -30 │    0   │  250   │\n",
      "├─────────┼────────┼────────┤\n",
      "│     -25 │   22.1 │  245.2 │\n",
      "├─────────┼────────┼────────┤\n",
      "│     -20 │   44.1 │  238.5 │\n",
      "├─────────┼────────┼────────┤\n",
      "│     -15 │   65.7 │  230.1 │\n",
      "├─────────┼────────┼────────┤\n",
      "│     -10 │   86.8 │  219.8 │\n",
      "├─────────┼────────┼────────┤\n",
      "│      -5 │  107.3 │  207.9 │\n",
      "├─────────┼────────┼────────┤\n",
      "│       0 │  126.9 │  194.5 │\n",
      "├─────────┼────────┼────────┤\n",
      "│       5 │  145.6 │  179.5 │\n",
      "├─────────┼────────┼────────┤\n",
      "│      10 │  163.2 │  163.2 │\n",
      "├─────────┼────────┼────────┤\n",
      "│      15 │  179.5 │  145.6 │\n",
      "├─────────┼────────┼────────┤\n",
      "│      20 │  194.5 │  126.9 │\n",
      "├─────────┼────────┼────────┤\n",
      "│      25 │  207.9 │  107.3 │\n",
      "├─────────┼────────┼────────┤\n",
      "│      30 │  219.8 │   86.8 │\n",
      "├─────────┼────────┼────────┤\n",
      "│      35 │  230.1 │   65.7 │\n",
      "├─────────┼────────┼────────┤\n",
      "│      40 │  238.5 │   44.1 │\n",
      "├─────────┼────────┼────────┤\n",
      "│      45 │  245.2 │   22.1 │\n",
      "├─────────┼────────┼────────┤\n",
      "│      50 │  250   │    0   │\n",
      "╘═════════╧════════╧════════╛\n",
      "\n",
      "Part b)\n",
      "Theta_min = 10 degrees\n",
      "\n",
      "Part c)\n",
      "The minimum tension is= 163.2 lbs\n"
     ]
    }
   ],
   "source": [
    "# 2.C2 (3)\n",
    "\n",
    "getTensions(40, 60, 250, 5)"
   ]
  },
  {
   "cell_type": "markdown",
   "id": "8c0c7abd",
   "metadata": {},
   "source": [
    "### P2.C3"
   ]
  },
  {
   "cell_type": "markdown",
   "id": "b9111025",
   "metadata": {},
   "source": [
    "![title](2.C3.png)\n"
   ]
  },
  {
   "cell_type": "code",
   "execution_count": 12,
   "id": "6b60ee2b",
   "metadata": {},
   "outputs": [
    {
     "name": "stdout",
     "output_type": "stream",
     "text": [
      "[ 0.5  1.   1.5  2.   2.5  3.   3.5  4.   4.5  5.   5.5  6.   6.5  7.\n",
      "  7.5  8.   8.5  9.   9.5 10. ]\n"
     ]
    }
   ],
   "source": [
    "def tightrope(L, x_min, x_max, step, W):\n",
    "    x = np.arange(x_min, x_max + step, step)\n",
    "    for d in x:    \n",
    "        L_BC = L - d\n",
    "        T_AC = None\n",
    "        T_BC = None\n",
    "        y = None"
   ]
  },
  {
   "cell_type": "code",
   "execution_count": null,
   "id": "0121aec0",
   "metadata": {},
   "outputs": [],
   "source": [
    "L = 20.0 # length in meters\n",
    "W = 800 # weight of acrobat in N \n",
    "x_min = 0.5 # minimum x value in meters\n",
    "x_max = 10 # maximum x value in meters\n",
    "step = 0.5 # increment of increasing x in meters\n",
    "\n",
    "tightrope(L, x_min, x_max, step, W)"
   ]
  }
 ],
 "metadata": {
  "kernelspec": {
   "display_name": "Python 3 (ipykernel)",
   "language": "python",
   "name": "python3"
  },
  "language_info": {
   "codemirror_mode": {
    "name": "ipython",
    "version": 3
   },
   "file_extension": ".py",
   "mimetype": "text/x-python",
   "name": "python",
   "nbconvert_exporter": "python",
   "pygments_lexer": "ipython3",
   "version": "3.11.3"
  }
 },
 "nbformat": 4,
 "nbformat_minor": 5
}
