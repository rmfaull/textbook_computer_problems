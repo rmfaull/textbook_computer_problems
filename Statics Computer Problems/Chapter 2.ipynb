{
 "cells": [
  {
   "cell_type": "markdown",
   "id": "acaf18f4-833d-4992-a120-886bbd88cad7",
   "metadata": {},
   "source": [
    "# Vector Mechanics for Engineers Statics Chapter 2 Computer Problems"
   ]
  },
  {
   "cell_type": "code",
   "execution_count": 2,
   "id": "16d10761-60b7-4fe7-92c8-33ec81f54122",
   "metadata": {},
   "outputs": [],
   "source": [
    "import numpy as np\n",
    "from tabulate import tabulate"
   ]
  },
  {
   "cell_type": "markdown",
   "id": "5929bdad-d8c0-4142-97bd-40942950bb24",
   "metadata": {},
   "source": [
    "### P2.C1: "
   ]
  },
  {
   "cell_type": "markdown",
   "id": "8e4a1588-11ad-41a7-a605-3eb7c932bc09",
   "metadata": {},
   "source": [
    "![title](Images/2.C1.png)"
   ]
  },
  {
   "cell_type": "markdown",
   "id": "ea1ca22e-23ca-4321-88de-596938b893c9",
   "metadata": {},
   "source": [
    "We know:\n",
    "\n",
    "$R_{x}$ = $\\sum$$F_{x}$ and $R_{y}$ = $\\sum$$F_{y}$\n",
    "\n",
    "Also:\n",
    "\n",
    "$\\tan$$\\alpha$ = $\\frac{R_{y}}{R_{x}}$"
   ]
  },
  {
   "cell_type": "code",
   "execution_count": 3,
   "id": "92cb5be5-b3d2-4ef3-8e6d-3a3af9cb85fb",
   "metadata": {},
   "outputs": [],
   "source": [
    "'''takes in a list of n length with force magnitude and theta angle tuples as shown in Fig P2.C1 \n",
    "and returns the resultant force as a touple containing mangitude and theta angle in degrees''' \n",
    "\n",
    "def getResultant(forces):\n",
    "   \n",
    "    \n",
    "    \n",
    "    n = len(forces) # determines how many forces are applied at A\n",
    "    Rx = 0 # initializes a variable to sum the magnitudes in the x direction\n",
    "    Ry = 0\n",
    "   \n",
    "    \n",
    "    # Assumes a list of force and angle tuples or lists is provided as input\n",
    "    # Also assumes theta angles are provided in degrees\n",
    "    \n",
    "    for F, theta in forces:\n",
    "        \n",
    "        Rx = Rx + F * np.cos((theta * np.pi)/ 180)\n",
    "        Ry = Ry + F * np.sin((theta * np.pi)/ 180)\n",
    "        \n",
    "    R = np.round(np.sqrt(Rx**2 + Ry**2), decimals = 1) #calculates the magnitude of the resultant \n",
    "    alpha = np.round(((np.arctan2(Ry  , Rx) * 180) / np.pi ), decimals = 1) # calculates the arctangent to get resultant angle\n",
    "    \n",
    "    return R, alpha"
   ]
  },
  {
   "cell_type": "code",
   "execution_count": 4,
   "id": "77899a75-3385-4d29-884d-58c9a2649250",
   "metadata": {},
   "outputs": [
    {
     "name": "stdout",
     "output_type": "stream",
     "text": [
      "(199.6, 4.1)\n"
     ]
    }
   ],
   "source": [
    "#Test using Sample Problem 2.3 on pg. 31\n",
    "\n",
    "F = [(150, 30), (80, 90 + 20), (110, 270), (100, 360 - 15)]\n",
    "\n",
    "print(getResultant(F))"
   ]
  },
  {
   "cell_type": "markdown",
   "id": "d9fd18f9-192f-4048-a65c-2940efb2bfc4",
   "metadata": {},
   "source": [
    "![title](Images/2.32.png)"
   ]
  },
  {
   "cell_type": "markdown",
   "id": "53304f2a-587e-42a7-beac-88f51e0c12a3",
   "metadata": {},
   "source": [
    "![title](Images/Fig2.24.png)"
   ]
  },
  {
   "cell_type": "code",
   "execution_count": 5,
   "id": "c91ef0a6-c3fb-4fcd-bc8b-c4f2a54a9c4a",
   "metadata": {},
   "outputs": [
    {
     "name": "stdout",
     "output_type": "stream",
     "text": [
      "The resultant is: \n",
      "R = 251.1 N with an angle of 94.7 degrees\n"
     ]
    }
   ],
   "source": [
    "# Problem 2.32 \n",
    "\n",
    "F = [(80, 40), (120, 40 + 30), (150, 180 - 35)]\n",
    "R, alpha = getResultant(F)\n",
    "print(\"The resultant is: \")\n",
    "print(\"R = {} N with an angle of {} degrees\".format(R, alpha))"
   ]
  },
  {
   "cell_type": "markdown",
   "id": "b9caa5ba-d7e6-404d-b0c1-932dd4ee0237",
   "metadata": {},
   "source": [
    "![title](Images/2.33.png)"
   ]
  },
  {
   "cell_type": "markdown",
   "id": "2d1897ff-5c9d-42d4-a3da-896a18c3e9f8",
   "metadata": {},
   "source": [
    "![title](Images/Fig2.23.png)"
   ]
  },
  {
   "cell_type": "code",
   "execution_count": 6,
   "id": "c2b86adf-4770-4894-9071-9715779e1b36",
   "metadata": {},
   "outputs": [
    {
     "name": "stdout",
     "output_type": "stream",
     "text": [
      "The resultant is: \n",
      "R = 54.9 lbs with an angle of -48.9 degrees\n"
     ]
    }
   ],
   "source": [
    "# Problem 2.33\n",
    "\n",
    "F = [(50, 270 - 50), (40, 360 - 60), (60, 25)]\n",
    "R, alpha = getResultant(F)\n",
    "print(\"The resultant is: \")\n",
    "print(\"R = {} lbs with an angle of {} degrees\".format(R, alpha))"
   ]
  },
  {
   "cell_type": "markdown",
   "id": "2bd0afee-390e-49b1-b075-7afedb6c4b8c",
   "metadata": {},
   "source": [
    "![title](Images/2.35.png)"
   ]
  },
  {
   "cell_type": "markdown",
   "id": "7c242a65-0abe-4867-bf42-c3cb7f5edce8",
   "metadata": {},
   "source": [
    "![title](Images/Fig2.35.png)"
   ]
  },
  {
   "cell_type": "code",
   "execution_count": 8,
   "id": "01fc929b-b8a5-443b-b5bb-d4d0877211c6",
   "metadata": {},
   "outputs": [
    {
     "name": "stdout",
     "output_type": "stream",
     "text": [
      "The resultant is: \n",
      "R = 308.6 N with an angle of -93.4 degrees\n"
     ]
    }
   ],
   "source": [
    "#Problem 2.35\n",
    "# With positive x pointing right and positive y pointing upward\n",
    "alpha = 35 \n",
    "F = [(200, 180 + alpha), (150, 360 - (alpha + 30)), (100, 360 - alpha)]\n",
    "R, beta= getResultant(F)\n",
    "print(\"The resultant is: \")\n",
    "print(\"R = {} N with an angle of {} degrees\".format(R, beta))"
   ]
  },
  {
   "cell_type": "markdown",
   "id": "99af8d12-42da-4100-aba4-875373f8081e",
   "metadata": {},
   "source": [
    "![title](Images/2.38.png)"
   ]
  },
  {
   "cell_type": "markdown",
   "id": "63d12b39-8333-489d-b06a-14d3012a7894",
   "metadata": {},
   "source": [
    "![title](Images/Fig2.38.png)"
   ]
  },
  {
   "cell_type": "code",
   "execution_count": 9,
   "id": "14d6f6d7-a9ef-4d91-b2e7-8a55ac92f383",
   "metadata": {},
   "outputs": [
    {
     "name": "stdout",
     "output_type": "stream",
     "text": [
      "The resultant is: \n",
      "R = 202.0 lbs with an angle of 88.2 degrees\n"
     ]
    }
   ],
   "source": [
    "#Problem 2.38 \n",
    "# With positive x pointing right and positive y pointing upward\n",
    "alpha = 75\n",
    "F = [(60, alpha), (80, alpha + alpha), (120, alpha + 270 + alpha)]\n",
    "R, beta= getResultant(F)\n",
    "print(\"The resultant is: \")\n",
    "print(\"R = {} lbs with an angle of {} degrees\".format(R, beta))"
   ]
  },
  {
   "cell_type": "markdown",
   "id": "b5fce651-6011-4789-b10c-01c9aef67a01",
   "metadata": {},
   "source": [
    "### P2.C2"
   ]
  },
  {
   "cell_type": "markdown",
   "id": "78259582-b5e6-433d-b2d1-7497c6975506",
   "metadata": {},
   "source": [
    "![title](Images/2.C2.png)"
   ]
  },
  {
   "cell_type": "code",
   "execution_count": 10,
   "id": "ca9520d8-899f-4853-bddc-202a474cc523",
   "metadata": {},
   "outputs": [],
   "source": [
    "def getTensions(alpha, beta, P, dTheta):\n",
    "    #creates a function that takes in the arguments alpha, beta, P and dTheta with angles assumed to be passed in degrees\n",
    "    \n",
    "    theta1 = beta - 90 # calculates the starting theta angle\n",
    "    theta2 = 90 - alpha # calculates the ending theta angle\n",
    "    \n",
    "    tsAndtheta = [[\"theta\", \"T_AC\", \"T_BC\"]]\n",
    "    for theta in range (theta1, theta2 + dTheta, dTheta):\n",
    "        \n",
    "        #Part a\n",
    "        \n",
    "        # From force triangle T_AC/sin(90-beta+theta) = T_BC/sin(90-alpha-theta) = P/sin(alpha + beta)\n",
    "        \n",
    "        P_sin = P / np.sin(((alpha + beta) * np.pi) / 180)\n",
    "        T_AC =  np.round(P_sin * np.sin(((90 - beta + theta)* np.pi) / 180), decimals = 1)\n",
    "        T_BC = np.round(P_sin * np.sin(((90 - alpha - theta) * np.pi) / 180), decimals = 1)\n",
    "       \n",
    "        #Part b and Part c\n",
    "        \n",
    "        # T is smallest when both cables have same magnitude tension\n",
    "        \n",
    "        if T_AC == T_BC:\n",
    "            T_min = T_AC\n",
    "            theta_min = theta\n",
    "        \n",
    "        tsAndtheta.append([theta, T_AC, T_BC])\n",
    "    \n",
    "    #Result printing\n",
    "    \n",
    "    print(\"Part a)\")\n",
    "    print(tabulate(tsAndtheta, headers = 'firstrow', tablefmt = 'fancy_grid'))\n",
    "    \n",
    "    print(\"\\nPart b)\")\n",
    "    print(\"Theta_min = {} degrees\".format(theta_min))\n",
    "    \n",
    "    print(\"\\nPart c)\")\n",
    "    print(\"The minimum tension is= {} lbs\".format(T_min))"
   ]
  },
  {
   "cell_type": "code",
   "execution_count": 11,
   "id": "71a11d74-507f-4907-99f5-18c046093e49",
   "metadata": {},
   "outputs": [
    {
     "name": "stdout",
     "output_type": "stream",
     "text": [
      "Part a)\n",
      "╒═════════╤════════╤════════╕\n",
      "│   theta │   T_AC │   T_BC │\n",
      "╞═════════╪════════╪════════╡\n",
      "│     -15 │    0   │  400   │\n",
      "├─────────┼────────┼────────┤\n",
      "│     -10 │   37.1 │  385.8 │\n",
      "├─────────┼────────┼────────┤\n",
      "│      -5 │   73.9 │  368.6 │\n",
      "├─────────┼────────┼────────┤\n",
      "│       0 │  110.2 │  348.7 │\n",
      "├─────────┼────────┼────────┤\n",
      "│       5 │  145.6 │  326.1 │\n",
      "├─────────┼────────┼────────┤\n",
      "│      10 │  179.9 │  301   │\n",
      "├─────────┼────────┼────────┤\n",
      "│      15 │  212.8 │  273.6 │\n",
      "├─────────┼────────┼────────┤\n",
      "│      20 │  244.2 │  244.2 │\n",
      "├─────────┼────────┼────────┤\n",
      "│      25 │  273.6 │  212.8 │\n",
      "├─────────┼────────┼────────┤\n",
      "│      30 │  301   │  179.9 │\n",
      "├─────────┼────────┼────────┤\n",
      "│      35 │  326.1 │  145.6 │\n",
      "├─────────┼────────┼────────┤\n",
      "│      40 │  348.7 │  110.2 │\n",
      "├─────────┼────────┼────────┤\n",
      "│      45 │  368.6 │   73.9 │\n",
      "├─────────┼────────┼────────┤\n",
      "│      50 │  385.8 │   37.1 │\n",
      "├─────────┼────────┼────────┤\n",
      "│      55 │  400   │    0   │\n",
      "╘═════════╧════════╧════════╛\n",
      "\n",
      "Part b)\n",
      "Theta_min = 20 degrees\n",
      "\n",
      "Part c)\n",
      "The minimum tension is= 244.2 lbs\n"
     ]
    }
   ],
   "source": [
    "# 2.C2 (1)\n",
    "\n",
    "getTensions(35, 75, 400, 5)"
   ]
  },
  {
   "cell_type": "code",
   "execution_count": 12,
   "id": "9ce26f12-fb1f-47a7-948c-e7404f61625c",
   "metadata": {},
   "outputs": [
    {
     "name": "stdout",
     "output_type": "stream",
     "text": [
      "Part a)\n",
      "╒═════════╤════════╤════════╕\n",
      "│   theta │   T_AC │   T_BC │\n",
      "╞═════════╪════════╪════════╡\n",
      "│     -60 │    0   │  600   │\n",
      "├─────────┼────────┼────────┤\n",
      "│     -50 │  105.8 │  609.3 │\n",
      "├─────────┼────────┼────────┤\n",
      "│     -40 │  208.4 │  600   │\n",
      "├─────────┼────────┼────────┤\n",
      "│     -30 │  304.6 │  572.5 │\n",
      "├─────────┼────────┼────────┤\n",
      "│     -20 │  391.6 │  527.6 │\n",
      "├─────────┼────────┼────────┤\n",
      "│     -10 │  466.7 │  466.7 │\n",
      "├─────────┼────────┼────────┤\n",
      "│       0 │  527.6 │  391.6 │\n",
      "├─────────┼────────┼────────┤\n",
      "│      10 │  572.5 │  304.6 │\n",
      "├─────────┼────────┼────────┤\n",
      "│      20 │  600   │  208.4 │\n",
      "├─────────┼────────┼────────┤\n",
      "│      30 │  609.3 │  105.8 │\n",
      "├─────────┼────────┼────────┤\n",
      "│      40 │  600   │    0   │\n",
      "╘═════════╧════════╧════════╛\n",
      "\n",
      "Part b)\n",
      "Theta_min = -10 degrees\n",
      "\n",
      "Part c)\n",
      "The minimum tension is= 466.7 lbs\n"
     ]
    }
   ],
   "source": [
    "# 2.C2 (2)\n",
    "\n",
    "getTensions(50, 30, 600, 10)"
   ]
  },
  {
   "cell_type": "code",
   "execution_count": 13,
   "id": "cfa758f7-d556-4b28-9923-8d61f785b4e2",
   "metadata": {},
   "outputs": [
    {
     "name": "stdout",
     "output_type": "stream",
     "text": [
      "Part a)\n",
      "╒═════════╤════════╤════════╕\n",
      "│   theta │   T_AC │   T_BC │\n",
      "╞═════════╪════════╪════════╡\n",
      "│     -30 │    0   │  250   │\n",
      "├─────────┼────────┼────────┤\n",
      "│     -25 │   22.1 │  245.2 │\n",
      "├─────────┼────────┼────────┤\n",
      "│     -20 │   44.1 │  238.5 │\n",
      "├─────────┼────────┼────────┤\n",
      "│     -15 │   65.7 │  230.1 │\n",
      "├─────────┼────────┼────────┤\n",
      "│     -10 │   86.8 │  219.8 │\n",
      "├─────────┼────────┼────────┤\n",
      "│      -5 │  107.3 │  207.9 │\n",
      "├─────────┼────────┼────────┤\n",
      "│       0 │  126.9 │  194.5 │\n",
      "├─────────┼────────┼────────┤\n",
      "│       5 │  145.6 │  179.5 │\n",
      "├─────────┼────────┼────────┤\n",
      "│      10 │  163.2 │  163.2 │\n",
      "├─────────┼────────┼────────┤\n",
      "│      15 │  179.5 │  145.6 │\n",
      "├─────────┼────────┼────────┤\n",
      "│      20 │  194.5 │  126.9 │\n",
      "├─────────┼────────┼────────┤\n",
      "│      25 │  207.9 │  107.3 │\n",
      "├─────────┼────────┼────────┤\n",
      "│      30 │  219.8 │   86.8 │\n",
      "├─────────┼────────┼────────┤\n",
      "│      35 │  230.1 │   65.7 │\n",
      "├─────────┼────────┼────────┤\n",
      "│      40 │  238.5 │   44.1 │\n",
      "├─────────┼────────┼────────┤\n",
      "│      45 │  245.2 │   22.1 │\n",
      "├─────────┼────────┼────────┤\n",
      "│      50 │  250   │    0   │\n",
      "╘═════════╧════════╧════════╛\n",
      "\n",
      "Part b)\n",
      "Theta_min = 10 degrees\n",
      "\n",
      "Part c)\n",
      "The minimum tension is= 163.2 lbs\n"
     ]
    }
   ],
   "source": [
    "# 2.C2 (3)\n",
    "\n",
    "getTensions(40, 60, 250, 5)"
   ]
  },
  {
   "cell_type": "markdown",
   "id": "c1f60998-033b-4516-916d-1a181d71675f",
   "metadata": {},
   "source": [
    "### P2.C3"
   ]
  },
  {
   "cell_type": "markdown",
   "id": "7aac1cb3-0657-49a1-9e61-64c040fff6fb",
   "metadata": {},
   "source": [
    "![title](Images/2.C3.png)"
   ]
  },
  {
   "cell_type": "code",
   "execution_count": 14,
   "id": "44feaade-2c4c-4d85-b847-b8401e29927f",
   "metadata": {},
   "outputs": [],
   "source": [
    "def tightrope(L, x_min, x_max, step, W):\n",
    "    x = np.arange(x_min, x_max + step, step)\n",
    "    for d in x:    \n",
    "        L_BC = L - d\n",
    "        T_AC = None\n",
    "        T_BC = None\n",
    "        y = None"
   ]
  },
  {
   "cell_type": "code",
   "execution_count": 15,
   "id": "35f057ea-5ba5-4e75-84fe-2db5c0b4e4fc",
   "metadata": {},
   "outputs": [],
   "source": [
    "L = 20.0 # length in meters\n",
    "W = 800 # weight of acrobat in N \n",
    "x_min = 0.5 # minimum x value in meters\n",
    "x_max = 10 # maximum x value in meters\n",
    "step = 0.5 # increment of increasing x in meters\n",
    "\n",
    "tightrope(L, x_min, x_max, step, W)"
   ]
  },
  {
   "cell_type": "code",
   "execution_count": null,
   "id": "75bc647c-934f-466b-ac4a-e6a05d3b124a",
   "metadata": {},
   "outputs": [],
   "source": []
  }
 ],
 "metadata": {
  "kernelspec": {
   "display_name": "Python [conda env:base] *",
   "language": "python",
   "name": "conda-base-py"
  },
  "language_info": {
   "codemirror_mode": {
    "name": "ipython",
    "version": 3
   },
   "file_extension": ".py",
   "mimetype": "text/x-python",
   "name": "python",
   "nbconvert_exporter": "python",
   "pygments_lexer": "ipython3",
   "version": "3.12.7"
  }
 },
 "nbformat": 4,
 "nbformat_minor": 5
}
